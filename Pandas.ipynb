{
 "cells": [
  {
   "cell_type": "markdown",
   "id": "0b413f2d",
   "metadata": {},
   "source": [
    "# PANDAS :-"
   ]
  },
  {
   "cell_type": "code",
   "execution_count": 40,
   "id": "a9062c7e",
   "metadata": {},
   "outputs": [],
   "source": [
    "import pandas as pd"
   ]
  },
  {
   "cell_type": "code",
   "execution_count": 41,
   "id": "4d4ad1a7",
   "metadata": {},
   "outputs": [
    {
     "name": "stdout",
     "output_type": "stream",
     "text": [
      "Pandas Version : 2.2.3\n"
     ]
    }
   ],
   "source": [
    "print(f\"Pandas Version : {pd.__version__}\")"
   ]
  },
  {
   "cell_type": "markdown",
   "id": "d8eb2fc4",
   "metadata": {},
   "source": [
    "## Serise :"
   ]
  },
  {
   "cell_type": "markdown",
   "id": "1def1a7e",
   "metadata": {},
   "source": [
    "### Serise Create, Manipulate, Querry, Delete :"
   ]
  },
  {
   "cell_type": "code",
   "execution_count": 42,
   "id": "6cf369d0",
   "metadata": {},
   "outputs": [
    {
     "name": "stdout",
     "output_type": "stream",
     "text": [
      "[8, 5, 4, 6, 7] \n",
      "\n",
      "S1 :\n",
      "0    8\n",
      "1    5\n",
      "2    4\n",
      "3    6\n",
      "4    7\n",
      "dtype: int64 \n",
      "\n",
      "Second of S1 : 5\n"
     ]
    }
   ],
   "source": [
    "# Creating Serise from list :\n",
    "arr = [8,5,4,6,7]\n",
    "print(arr,\"\\n\")\n",
    "\n",
    "S1 = pd.Series(arr)\n",
    "print(\"S1 :\")\n",
    "print(S1,\"\\n\")\n",
    "print(\"Second of S1 :\",S1[1])"
   ]
  },
  {
   "cell_type": "code",
   "execution_count": 43,
   "id": "e7afe07f",
   "metadata": {},
   "outputs": [
    {
     "name": "stdout",
     "output_type": "stream",
     "text": [
      "S2 :\n",
      "1    8\n",
      "2    5\n",
      "3    4\n",
      "4    6\n",
      "5    7\n",
      "dtype: int64\n"
     ]
    }
   ],
   "source": [
    "order = [1,2,3,4,5]\n",
    "\n",
    "S2 = pd.Series(arr,index = order)\n",
    "print(\"S2 :\")\n",
    "print(S2)\n"
   ]
  },
  {
   "cell_type": "code",
   "execution_count": 44,
   "id": "f85ec4b8",
   "metadata": {},
   "outputs": [
    {
     "name": "stdout",
     "output_type": "stream",
     "text": [
      "[-0.6332873  -0.55643     0.21981054 -0.4816473   0.56427341] \n",
      "\n",
      "S2 :\n",
      "a   -0.633287\n",
      "b   -0.556430\n",
      "c    0.219811\n",
      "d   -0.481647\n",
      "e    0.564273\n",
      "dtype: float64\n"
     ]
    }
   ],
   "source": [
    "import numpy as np\n",
    "\n",
    "x = np.random.randn(5) # Create random array \n",
    "print(x,\"\\n\")\n",
    "\n",
    "index = [\"a\",\"b\",\"c\",\"d\",\"e\"]\n",
    "S2 = pd.Series(x,index = index)\n",
    "print(\"S2 :\")\n",
    "print(S2)"
   ]
  },
  {
   "cell_type": "code",
   "execution_count": 45,
   "id": "7c088691",
   "metadata": {},
   "outputs": [
    {
     "name": "stdout",
     "output_type": "stream",
     "text": [
      "Modified S1 :\n",
      "A    8\n",
      "B    5\n",
      "C    4\n",
      "D    6\n",
      "E    7\n",
      "dtype: int64 \n",
      "\n",
      "a :\n",
      "B    5\n",
      "C    4\n",
      "D    6\n",
      "dtype: int64 \n",
      "\n"
     ]
    }
   ],
   "source": [
    "# Modify index of Serise\n",
    "\n",
    "S1.index = [\"A\",\"B\",\"C\",\"D\",\"E\"]\n",
    "print(\"Modified S1 :\")\n",
    "print(S1,\"\\n\")\n",
    "\n",
    "# Slicing of Serise\n",
    "\n",
    "a = S1[1:4] # start : 2nd collumn ; end : 5th collumn\n",
    "print(\"a :\")\n",
    "print(a,\"\\n\")"
   ]
  },
  {
   "cell_type": "code",
   "execution_count": 46,
   "id": "555169b9",
   "metadata": {},
   "outputs": [
    {
     "name": "stdout",
     "output_type": "stream",
     "text": [
      "{'a': 1, 'f': 4, 'c': 3, 'j': 9, 'e': 6} \n",
      "\n",
      "S3 :\n",
      "a    1\n",
      "f    4\n",
      "c    3\n",
      "j    9\n",
      "e    6\n",
      "dtype: int64\n"
     ]
    }
   ],
   "source": [
    "# Creating Serise from dictionary :\n",
    "y = {\n",
    "     \"a\" : 1,\n",
    "     \"f\" : 4,\n",
    "     \"c\" : 3,\n",
    "     \"j\" : 9,\n",
    "     \"e\" : 6\n",
    "     }\n",
    "print(y,\"\\n\")\n",
    "\n",
    "S3 = pd.Series(y)\n",
    "print(\"S3 :\")\n",
    "print(S3)"
   ]
  },
  {
   "cell_type": "code",
   "execution_count": 47,
   "id": "1f12d0fd",
   "metadata": {},
   "outputs": [
    {
     "name": "stdout",
     "output_type": "stream",
     "text": [
      "S4 :\n",
      "A    8\n",
      "B    5\n",
      "C    4\n",
      "D    6\n",
      "E    7\n",
      "a    1\n",
      "f    4\n",
      "c    3\n",
      "j    9\n",
      "e    6\n",
      "dtype: int64 \n",
      "\n",
      "A    8\n",
      "B    5\n",
      "C    4\n",
      "D    6\n",
      "E    7\n",
      "f    4\n",
      "c    3\n",
      "j    9\n",
      "e    6\n",
      "dtype: int64\n"
     ]
    }
   ],
   "source": [
    "# concating two Series\n",
    "S4 = pd.concat([S1, S3])\n",
    "print(\"S4 :\")\n",
    "print(S4,\"\\n\")\n",
    "\n",
    "z = S4.drop(\"a\") # remove index a from S4\n",
    "print(z)"
   ]
  },
  {
   "cell_type": "markdown",
   "id": "4daff848",
   "metadata": {},
   "source": [
    "### Serise Operations :"
   ]
  },
  {
   "cell_type": "code",
   "execution_count": 48,
   "id": "692dc8be",
   "metadata": {},
   "outputs": [],
   "source": [
    "arr1 = [0,1,9,2,7]\n",
    "arr2 = [5,4,10,6,9]"
   ]
  },
  {
   "cell_type": "code",
   "execution_count": 49,
   "id": "c4150318",
   "metadata": {},
   "outputs": [
    {
     "name": "stdout",
     "output_type": "stream",
     "text": [
      "S5 :\n",
      "0    0\n",
      "1    1\n",
      "2    9\n",
      "3    2\n",
      "4    7\n",
      "dtype: int64 \n",
      "\n",
      "S6 :\n",
      "0     5\n",
      "1     4\n",
      "2    10\n",
      "3     6\n",
      "4     9\n",
      "dtype: int64\n"
     ]
    }
   ],
   "source": [
    "S5 = pd.Series(arr1)\n",
    "print(\"S5 :\")\n",
    "print(S5,\"\\n\")\n",
    "\n",
    "S6 = pd.Series(arr2)\n",
    "print(\"S6 :\")\n",
    "print(S6)"
   ]
  },
  {
   "cell_type": "code",
   "execution_count": 50,
   "id": "02b35436",
   "metadata": {},
   "outputs": [
    {
     "name": "stdout",
     "output_type": "stream",
     "text": [
      "0     5\n",
      "1     5\n",
      "2    19\n",
      "3     8\n",
      "4    16\n",
      "dtype: int64\n"
     ]
    }
   ],
   "source": [
    "a = S6.add(S5) # S6[0] , S5[0] : S6[1] , S5[1] : S6[2] , S5[2] ....\n",
    "print(a)"
   ]
  },
  {
   "cell_type": "code",
   "execution_count": 51,
   "id": "f6366fd5",
   "metadata": {},
   "outputs": [
    {
     "name": "stdout",
     "output_type": "stream",
     "text": [
      "0    5\n",
      "1    3\n",
      "2    1\n",
      "3    4\n",
      "4    2\n",
      "dtype: int64\n"
     ]
    }
   ],
   "source": [
    "b = S6.sub(S5) # S6[0] - S5[0] , S6[1] - S5[1] , S6[2] - S5[2] ....\n",
    "print(b)"
   ]
  },
  {
   "cell_type": "code",
   "execution_count": 52,
   "id": "d5c7c1ae",
   "metadata": {},
   "outputs": [
    {
     "name": "stdout",
     "output_type": "stream",
     "text": [
      "0     0\n",
      "1     4\n",
      "2    90\n",
      "3    12\n",
      "4    63\n",
      "dtype: int64\n"
     ]
    }
   ],
   "source": [
    "c = S6.mul(S5) # S6[0] * S5[0] , S6[1] * S5[1] , S6[2] * S5[2] ....\n",
    "print(c)"
   ]
  },
  {
   "cell_type": "code",
   "execution_count": 53,
   "id": "b8a2db95",
   "metadata": {},
   "outputs": [
    {
     "name": "stdout",
     "output_type": "stream",
     "text": [
      "0         inf\n",
      "1    4.000000\n",
      "2    1.111111\n",
      "3    3.000000\n",
      "4    1.285714\n",
      "dtype: float64\n"
     ]
    }
   ],
   "source": [
    "d = S6.div(S5) # S6[0] / S5[0] , S6[1] / S5[1] , S6[2] / S5[2] ....\n",
    "print(d)"
   ]
  },
  {
   "cell_type": "code",
   "execution_count": 54,
   "id": "3c691a32",
   "metadata": {},
   "outputs": [
    {
     "name": "stdout",
     "output_type": "stream",
     "text": [
      "6.0\n"
     ]
    }
   ],
   "source": [
    "e = S6.median() # median of S6\n",
    "print(e)"
   ]
  },
  {
   "cell_type": "code",
   "execution_count": 55,
   "id": "d0ffbf5e",
   "metadata": {},
   "outputs": [
    {
     "name": "stdout",
     "output_type": "stream",
     "text": [
      "Max :  10\n",
      "Min :  4\n"
     ]
    }
   ],
   "source": [
    "f = S6.max()\n",
    "print(\"Max : \",f)\n",
    "\n",
    "g = S6.min()\n",
    "print(\"Min : \",g)"
   ]
  },
  {
   "cell_type": "markdown",
   "id": "c02a03cf",
   "metadata": {},
   "source": [
    "## Dataframe :"
   ]
  },
  {
   "cell_type": "markdown",
   "id": "d891f4ed",
   "metadata": {},
   "source": [
    "### Creating Dataframe :"
   ]
  },
  {
   "cell_type": "code",
   "execution_count": 56,
   "id": "24a20049",
   "metadata": {},
   "outputs": [
    {
     "data": {
      "text/html": [
       "<div>\n",
       "<style scoped>\n",
       "    .dataframe tbody tr th:only-of-type {\n",
       "        vertical-align: middle;\n",
       "    }\n",
       "\n",
       "    .dataframe tbody tr th {\n",
       "        vertical-align: top;\n",
       "    }\n",
       "\n",
       "    .dataframe thead th {\n",
       "        text-align: right;\n",
       "    }\n",
       "</style>\n",
       "<table border=\"1\" class=\"dataframe\">\n",
       "  <thead>\n",
       "    <tr style=\"text-align: right;\">\n",
       "      <th></th>\n",
       "      <th>A</th>\n",
       "      <th>B</th>\n",
       "      <th>C</th>\n",
       "      <th>D</th>\n",
       "    </tr>\n",
       "  </thead>\n",
       "  <tbody>\n",
       "    <tr>\n",
       "      <th>2025-07-18 18:43:27.355550</th>\n",
       "      <td>-0.219701</td>\n",
       "      <td>-0.105316</td>\n",
       "      <td>1.151730</td>\n",
       "      <td>-0.490631</td>\n",
       "    </tr>\n",
       "    <tr>\n",
       "      <th>2025-07-19 18:43:27.355550</th>\n",
       "      <td>0.697332</td>\n",
       "      <td>0.469105</td>\n",
       "      <td>0.848177</td>\n",
       "      <td>2.043874</td>\n",
       "    </tr>\n",
       "    <tr>\n",
       "      <th>2025-07-20 18:43:27.355550</th>\n",
       "      <td>-1.452057</td>\n",
       "      <td>0.600868</td>\n",
       "      <td>0.200578</td>\n",
       "      <td>0.063393</td>\n",
       "    </tr>\n",
       "    <tr>\n",
       "      <th>2025-07-21 18:43:27.355550</th>\n",
       "      <td>-0.981571</td>\n",
       "      <td>-1.064924</td>\n",
       "      <td>-0.080209</td>\n",
       "      <td>0.930829</td>\n",
       "    </tr>\n",
       "    <tr>\n",
       "      <th>2025-07-22 18:43:27.355550</th>\n",
       "      <td>0.481735</td>\n",
       "      <td>0.478076</td>\n",
       "      <td>-0.565440</td>\n",
       "      <td>-0.779816</td>\n",
       "    </tr>\n",
       "    <tr>\n",
       "      <th>2025-07-23 18:43:27.355550</th>\n",
       "      <td>0.128792</td>\n",
       "      <td>0.053893</td>\n",
       "      <td>-1.058512</td>\n",
       "      <td>1.885059</td>\n",
       "    </tr>\n",
       "    <tr>\n",
       "      <th>2025-07-24 18:43:27.355550</th>\n",
       "      <td>-0.454672</td>\n",
       "      <td>2.211744</td>\n",
       "      <td>-0.676591</td>\n",
       "      <td>1.279686</td>\n",
       "    </tr>\n",
       "  </tbody>\n",
       "</table>\n",
       "</div>"
      ],
      "text/plain": [
       "                                   A         B         C         D\n",
       "2025-07-18 18:43:27.355550 -0.219701 -0.105316  1.151730 -0.490631\n",
       "2025-07-19 18:43:27.355550  0.697332  0.469105  0.848177  2.043874\n",
       "2025-07-20 18:43:27.355550 -1.452057  0.600868  0.200578  0.063393\n",
       "2025-07-21 18:43:27.355550 -0.981571 -1.064924 -0.080209  0.930829\n",
       "2025-07-22 18:43:27.355550  0.481735  0.478076 -0.565440 -0.779816\n",
       "2025-07-23 18:43:27.355550  0.128792  0.053893 -1.058512  1.885059\n",
       "2025-07-24 18:43:27.355550 -0.454672  2.211744 -0.676591  1.279686"
      ]
     },
     "execution_count": 56,
     "metadata": {},
     "output_type": "execute_result"
    }
   ],
   "source": [
    "dates = pd.date_range(\"today\",periods = 7) # Create a date range starting from today for 7 periods\n",
    "num_arr = np.random.randn(7,4) # Import numpy array\n",
    "collumn = [\"A\",\"B\",\"C\",\"D\"] # Collumns Names\n",
    "df1 = pd.DataFrame(num_arr,index = dates,columns = collumn) \n",
    "df1\n",
    "    "
   ]
  },
  {
   "cell_type": "code",
   "execution_count": 57,
   "id": "d3aaf246",
   "metadata": {},
   "outputs": [
    {
     "data": {
      "text/html": [
       "<div>\n",
       "<style scoped>\n",
       "    .dataframe tbody tr th:only-of-type {\n",
       "        vertical-align: middle;\n",
       "    }\n",
       "\n",
       "    .dataframe tbody tr th {\n",
       "        vertical-align: top;\n",
       "    }\n",
       "\n",
       "    .dataframe thead th {\n",
       "        text-align: right;\n",
       "    }\n",
       "</style>\n",
       "<table border=\"1\" class=\"dataframe\">\n",
       "  <thead>\n",
       "    <tr style=\"text-align: right;\">\n",
       "      <th></th>\n",
       "      <th>Restaurants</th>\n",
       "      <th>Rating</th>\n",
       "      <th>Sales per Year</th>\n",
       "      <th>Location</th>\n",
       "      <th>Open</th>\n",
       "    </tr>\n",
       "  </thead>\n",
       "  <tbody>\n",
       "    <tr>\n",
       "      <th>1</th>\n",
       "      <td>Pizza Hut</td>\n",
       "      <td>4.5</td>\n",
       "      <td>100000</td>\n",
       "      <td>Pal</td>\n",
       "      <td>True</td>\n",
       "    </tr>\n",
       "    <tr>\n",
       "      <th>2</th>\n",
       "      <td>Domino's</td>\n",
       "      <td>3.5</td>\n",
       "      <td>80000</td>\n",
       "      <td>Adajan</td>\n",
       "      <td>False</td>\n",
       "    </tr>\n",
       "    <tr>\n",
       "      <th>3</th>\n",
       "      <td>KFC</td>\n",
       "      <td>4.0</td>\n",
       "      <td>120000</td>\n",
       "      <td>Vesu</td>\n",
       "      <td>True</td>\n",
       "    </tr>\n",
       "    <tr>\n",
       "      <th>4</th>\n",
       "      <td>Burger King</td>\n",
       "      <td>4.2</td>\n",
       "      <td>95000</td>\n",
       "      <td>Ugat</td>\n",
       "      <td>True</td>\n",
       "    </tr>\n",
       "    <tr>\n",
       "      <th>5</th>\n",
       "      <td>Lapino's</td>\n",
       "      <td>3.9</td>\n",
       "      <td>90000</td>\n",
       "      <td>Bhesan</td>\n",
       "      <td>False</td>\n",
       "    </tr>\n",
       "    <tr>\n",
       "      <th>6</th>\n",
       "      <td>McDonlads</td>\n",
       "      <td>4.3</td>\n",
       "      <td>180000</td>\n",
       "      <td>Begampura</td>\n",
       "      <td>True</td>\n",
       "    </tr>\n",
       "    <tr>\n",
       "      <th>7</th>\n",
       "      <td>Star Bucks</td>\n",
       "      <td>4.7</td>\n",
       "      <td>200000</td>\n",
       "      <td>Katargam</td>\n",
       "      <td>False</td>\n",
       "    </tr>\n",
       "  </tbody>\n",
       "</table>\n",
       "</div>"
      ],
      "text/plain": [
       "   Restaurants  Rating  Sales per Year   Location   Open\n",
       "1    Pizza Hut     4.5          100000        Pal   True\n",
       "2     Domino's     3.5           80000     Adajan  False\n",
       "3          KFC     4.0          120000       Vesu   True\n",
       "4  Burger King     4.2           95000       Ugat   True\n",
       "5     Lapino's     3.9           90000     Bhesan  False\n",
       "6    McDonlads     4.3          180000  Begampura   True\n",
       "7   Star Bucks     4.7          200000   Katargam  False"
      ]
     },
     "execution_count": 57,
     "metadata": {},
     "output_type": "execute_result"
    }
   ],
   "source": [
    "# Creat DataFrame from Dictionary\n",
    "\n",
    "data = {\"Restaurants\"    : [\"Pizza Hut\",\"Domino's\",\"KFC\",\"Burger King\",\"Lapino's\",\"McDonlads\",\"Star Bucks\"],\n",
    "        \"Rating\"         : [ 4.5 , 3.5 , 4 , 4.2 , 3.9 , 4.3 , 4.7 ],\n",
    "        \"Sales per Year\" : [ 100000 , 80000 , 120000 , 95000 , 90000 , 180000 , 200000 ],\n",
    "        \"Location\"       : [ \"Pal\" , \"Adajan\" , \"Vesu\" , \"Ugat\" , \"Bhesan\" , \"Begampura\" , \"Katargam\" ],\n",
    "        \"Open\"           : [ True , False , True , True , False , True , False ]\n",
    "        } # we can use : np.nan -> print NaN(Not a Number) => if we have not value\n",
    "# Restaurants, Rating, Sales per Year, Location, Open is collumn names\n",
    "\n",
    "# Index for the DataFrame \n",
    "index = [1,2,3,4,5,6,7] # We can use also [\"A\",\"B\",\"C\",\"D\",\"E\",\"F\",\"G\"]\n",
    "\n",
    "df2 = pd.DataFrame(data,index=index)\n",
    "df2"
   ]
  },
  {
   "cell_type": "code",
   "execution_count": 58,
   "id": "18567678",
   "metadata": {},
   "outputs": [
    {
     "name": "stdout",
     "output_type": "stream",
     "text": [
      "df2 : \n",
      "Restaurants        object\n",
      "Rating            float64\n",
      "Sales per Year      int64\n",
      "Location           object\n",
      "Open                 bool\n",
      "dtype: object \n",
      "\n"
     ]
    }
   ],
   "source": [
    "# see datatye of array of dictionary\n",
    "\n",
    "x = df2.dtypes\n",
    "print(\"df2 : \")\n",
    "print(x,\"\\n\")"
   ]
  },
  {
   "cell_type": "code",
   "execution_count": 59,
   "id": "6d2b7b3f",
   "metadata": {},
   "outputs": [
    {
     "name": "stdout",
     "output_type": "stream",
     "text": [
      "  Restaurants  Rating  Sales per Year Location   Open\n",
      "1   Pizza Hut     4.5          100000      Pal   True\n",
      "2    Domino's     3.5           80000   Adajan  False\n",
      "\n",
      "\n",
      "  Restaurants  Rating  Sales per Year   Location   Open\n",
      "5    Lapino's     3.9           90000     Bhesan  False\n",
      "6   McDonlads     4.3          180000  Begampura   True\n",
      "7  Star Bucks     4.7          200000   Katargam  False\n"
     ]
    }
   ],
   "source": [
    "y = df2.head(2) # see top 2 rows\n",
    "print(y)\n",
    "\n",
    "print(\"\\n\")\n",
    "\n",
    "z = df2.tail(3) # see bottom 3 rows\n",
    "print(z)"
   ]
  },
  {
   "cell_type": "code",
   "execution_count": 60,
   "id": "939ece6a",
   "metadata": {},
   "outputs": [
    {
     "name": "stdout",
     "output_type": "stream",
     "text": [
      "Index([1, 2, 3, 4, 5, 6, 7], dtype='int64')\n",
      "\n",
      "\n",
      "[['Pizza Hut' 4.5 100000 'Pal' True]\n",
      " [\"Domino's\" 3.5 80000 'Adajan' False]\n",
      " ['KFC' 4.0 120000 'Vesu' True]\n",
      " ['Burger King' 4.2 95000 'Ugat' True]\n",
      " [\"Lapino's\" 3.9 90000 'Bhesan' False]\n",
      " ['McDonlads' 4.3 180000 'Begampura' True]\n",
      " ['Star Bucks' 4.7 200000 'Katargam' False]]\n",
      "\n",
      "\n"
     ]
    },
    {
     "data": {
      "text/html": [
       "<div>\n",
       "<style scoped>\n",
       "    .dataframe tbody tr th:only-of-type {\n",
       "        vertical-align: middle;\n",
       "    }\n",
       "\n",
       "    .dataframe tbody tr th {\n",
       "        vertical-align: top;\n",
       "    }\n",
       "\n",
       "    .dataframe thead th {\n",
       "        text-align: right;\n",
       "    }\n",
       "</style>\n",
       "<table border=\"1\" class=\"dataframe\">\n",
       "  <thead>\n",
       "    <tr style=\"text-align: right;\">\n",
       "      <th></th>\n",
       "      <th>Rating</th>\n",
       "      <th>Sales per Year</th>\n",
       "    </tr>\n",
       "  </thead>\n",
       "  <tbody>\n",
       "    <tr>\n",
       "      <th>count</th>\n",
       "      <td>7.000000</td>\n",
       "      <td>7.000000</td>\n",
       "    </tr>\n",
       "    <tr>\n",
       "      <th>mean</th>\n",
       "      <td>4.157143</td>\n",
       "      <td>123571.428571</td>\n",
       "    </tr>\n",
       "    <tr>\n",
       "      <th>std</th>\n",
       "      <td>0.399404</td>\n",
       "      <td>47321.091643</td>\n",
       "    </tr>\n",
       "    <tr>\n",
       "      <th>min</th>\n",
       "      <td>3.500000</td>\n",
       "      <td>80000.000000</td>\n",
       "    </tr>\n",
       "    <tr>\n",
       "      <th>25%</th>\n",
       "      <td>3.950000</td>\n",
       "      <td>92500.000000</td>\n",
       "    </tr>\n",
       "    <tr>\n",
       "      <th>50%</th>\n",
       "      <td>4.200000</td>\n",
       "      <td>100000.000000</td>\n",
       "    </tr>\n",
       "    <tr>\n",
       "      <th>75%</th>\n",
       "      <td>4.400000</td>\n",
       "      <td>150000.000000</td>\n",
       "    </tr>\n",
       "    <tr>\n",
       "      <th>max</th>\n",
       "      <td>4.700000</td>\n",
       "      <td>200000.000000</td>\n",
       "    </tr>\n",
       "  </tbody>\n",
       "</table>\n",
       "</div>"
      ],
      "text/plain": [
       "         Rating  Sales per Year\n",
       "count  7.000000        7.000000\n",
       "mean   4.157143   123571.428571\n",
       "std    0.399404    47321.091643\n",
       "min    3.500000    80000.000000\n",
       "25%    3.950000    92500.000000\n",
       "50%    4.200000   100000.000000\n",
       "75%    4.400000   150000.000000\n",
       "max    4.700000   200000.000000"
      ]
     },
     "execution_count": 60,
     "metadata": {},
     "output_type": "execute_result"
    }
   ],
   "source": [
    "p = df2.index # see index of DataFrame df2\n",
    "print(p)\n",
    "\n",
    "print(\"\\n\")\n",
    "\n",
    "q = df2.values\n",
    "print(q)\n",
    "\n",
    "print(\"\\n\")\n",
    "\n",
    "r = df2.describe()\n",
    "r"
   ]
  },
  {
   "cell_type": "code",
   "execution_count": 61,
   "id": "5c7f9b27",
   "metadata": {},
   "outputs": [
    {
     "data": {
      "text/html": [
       "<div>\n",
       "<style scoped>\n",
       "    .dataframe tbody tr th:only-of-type {\n",
       "        vertical-align: middle;\n",
       "    }\n",
       "\n",
       "    .dataframe tbody tr th {\n",
       "        vertical-align: top;\n",
       "    }\n",
       "\n",
       "    .dataframe thead th {\n",
       "        text-align: right;\n",
       "    }\n",
       "</style>\n",
       "<table border=\"1\" class=\"dataframe\">\n",
       "  <thead>\n",
       "    <tr style=\"text-align: right;\">\n",
       "      <th></th>\n",
       "      <th>1</th>\n",
       "      <th>2</th>\n",
       "      <th>3</th>\n",
       "      <th>4</th>\n",
       "      <th>5</th>\n",
       "      <th>6</th>\n",
       "      <th>7</th>\n",
       "    </tr>\n",
       "  </thead>\n",
       "  <tbody>\n",
       "    <tr>\n",
       "      <th>Restaurants</th>\n",
       "      <td>Pizza Hut</td>\n",
       "      <td>Domino's</td>\n",
       "      <td>KFC</td>\n",
       "      <td>Burger King</td>\n",
       "      <td>Lapino's</td>\n",
       "      <td>McDonlads</td>\n",
       "      <td>Star Bucks</td>\n",
       "    </tr>\n",
       "    <tr>\n",
       "      <th>Rating</th>\n",
       "      <td>4.5</td>\n",
       "      <td>3.5</td>\n",
       "      <td>4.0</td>\n",
       "      <td>4.2</td>\n",
       "      <td>3.9</td>\n",
       "      <td>4.3</td>\n",
       "      <td>4.7</td>\n",
       "    </tr>\n",
       "    <tr>\n",
       "      <th>Sales per Year</th>\n",
       "      <td>100000</td>\n",
       "      <td>80000</td>\n",
       "      <td>120000</td>\n",
       "      <td>95000</td>\n",
       "      <td>90000</td>\n",
       "      <td>180000</td>\n",
       "      <td>200000</td>\n",
       "    </tr>\n",
       "    <tr>\n",
       "      <th>Location</th>\n",
       "      <td>Pal</td>\n",
       "      <td>Adajan</td>\n",
       "      <td>Vesu</td>\n",
       "      <td>Ugat</td>\n",
       "      <td>Bhesan</td>\n",
       "      <td>Begampura</td>\n",
       "      <td>Katargam</td>\n",
       "    </tr>\n",
       "    <tr>\n",
       "      <th>Open</th>\n",
       "      <td>True</td>\n",
       "      <td>False</td>\n",
       "      <td>True</td>\n",
       "      <td>True</td>\n",
       "      <td>False</td>\n",
       "      <td>True</td>\n",
       "      <td>False</td>\n",
       "    </tr>\n",
       "  </tbody>\n",
       "</table>\n",
       "</div>"
      ],
      "text/plain": [
       "                        1         2       3            4         5          6  \\\n",
       "Restaurants     Pizza Hut  Domino's     KFC  Burger King  Lapino's  McDonlads   \n",
       "Rating                4.5       3.5     4.0          4.2       3.9        4.3   \n",
       "Sales per Year     100000     80000  120000        95000     90000     180000   \n",
       "Location              Pal    Adajan    Vesu         Ugat    Bhesan  Begampura   \n",
       "Open                 True     False    True         True     False       True   \n",
       "\n",
       "                         7  \n",
       "Restaurants     Star Bucks  \n",
       "Rating                 4.7  \n",
       "Sales per Year      200000  \n",
       "Location          Katargam  \n",
       "Open                 False  "
      ]
     },
     "execution_count": 61,
     "metadata": {},
     "output_type": "execute_result"
    }
   ],
   "source": [
    "\n",
    "t = df2.T # convert in to horizontal # if  df2 = A  so  t = A' \n",
    "t "
   ]
  },
  {
   "cell_type": "code",
   "execution_count": 62,
   "id": "91a69006",
   "metadata": {},
   "outputs": [
    {
     "name": "stdout",
     "output_type": "stream",
     "text": [
      "   Restaurants  Rating  Sales per Year   Location   Open\n",
      "2     Domino's     3.5           80000     Adajan  False\n",
      "5     Lapino's     3.9           90000     Bhesan  False\n",
      "3          KFC     4.0          120000       Vesu   True\n",
      "4  Burger King     4.2           95000       Ugat   True\n",
      "6    McDonlads     4.3          180000  Begampura   True\n",
      "1    Pizza Hut     4.5          100000        Pal   True\n",
      "7   Star Bucks     4.7          200000   Katargam  False\n",
      "\n",
      "\n",
      "   Restaurants  Rating  Sales per Year   Location   Open\n",
      "2     Domino's     3.5           80000     Adajan  False\n",
      "5     Lapino's     3.9           90000     Bhesan  False\n",
      "4  Burger King     4.2           95000       Ugat   True\n",
      "1    Pizza Hut     4.5          100000        Pal   True\n",
      "3          KFC     4.0          120000       Vesu   True\n",
      "6    McDonlads     4.3          180000  Begampura   True\n",
      "7   Star Bucks     4.7          200000   Katargam  False\n"
     ]
    }
   ],
   "source": [
    "# Sorting DataFrame\n",
    "\n",
    "u = df2.sort_values(\"Rating\") # Sorted by Rating\n",
    "print(u)\n",
    "\n",
    "print(\"\\n\")\n",
    "\n",
    "v = df2.sort_values(\"Sales per Year\") # Sorted by Sales per Year\t\n",
    "print(v)"
   ]
  },
  {
   "cell_type": "code",
   "execution_count": 63,
   "id": "55bde3d8",
   "metadata": {},
   "outputs": [
    {
     "name": "stdout",
     "output_type": "stream",
     "text": [
      "   Restaurants  Rating  Sales per Year   Location   Open\n",
      "4  Burger King     4.2           95000       Ugat   True\n",
      "5     Lapino's     3.9           90000     Bhesan  False\n",
      "6    McDonlads     4.3          180000  Begampura   True\n",
      "\n",
      "\n",
      "   Restaurants  Rating  Sales per Year   Location  Open\n",
      "4  Burger King     4.2           95000       Ugat  True\n",
      "6    McDonlads     4.3          180000  Begampura  True\n",
      "1    Pizza Hut     4.5          100000        Pal  True\n"
     ]
    }
   ],
   "source": [
    "# Slicing DataFrame\n",
    "\n",
    "a = df2[3:6]\n",
    "print(a)\n",
    "\n",
    "print(\"\\n\")\n",
    "\n",
    "b = df2.sort_values(\"Rating\")[3:6] # Sorted by Rating and then sliced from 3 to 6\n",
    "print(b)"
   ]
  },
  {
   "cell_type": "code",
   "execution_count": 64,
   "id": "d336b5ed",
   "metadata": {},
   "outputs": [
    {
     "data": {
      "text/html": [
       "<div>\n",
       "<style scoped>\n",
       "    .dataframe tbody tr th:only-of-type {\n",
       "        vertical-align: middle;\n",
       "    }\n",
       "\n",
       "    .dataframe tbody tr th {\n",
       "        vertical-align: top;\n",
       "    }\n",
       "\n",
       "    .dataframe thead th {\n",
       "        text-align: right;\n",
       "    }\n",
       "</style>\n",
       "<table border=\"1\" class=\"dataframe\">\n",
       "  <thead>\n",
       "    <tr style=\"text-align: right;\">\n",
       "      <th></th>\n",
       "      <th>Rating</th>\n",
       "      <th>Sales per Year</th>\n",
       "    </tr>\n",
       "  </thead>\n",
       "  <tbody>\n",
       "    <tr>\n",
       "      <th>1</th>\n",
       "      <td>4.5</td>\n",
       "      <td>100000</td>\n",
       "    </tr>\n",
       "    <tr>\n",
       "      <th>2</th>\n",
       "      <td>3.5</td>\n",
       "      <td>80000</td>\n",
       "    </tr>\n",
       "    <tr>\n",
       "      <th>3</th>\n",
       "      <td>4.0</td>\n",
       "      <td>120000</td>\n",
       "    </tr>\n",
       "    <tr>\n",
       "      <th>4</th>\n",
       "      <td>4.2</td>\n",
       "      <td>95000</td>\n",
       "    </tr>\n",
       "    <tr>\n",
       "      <th>5</th>\n",
       "      <td>3.9</td>\n",
       "      <td>90000</td>\n",
       "    </tr>\n",
       "    <tr>\n",
       "      <th>6</th>\n",
       "      <td>4.3</td>\n",
       "      <td>180000</td>\n",
       "    </tr>\n",
       "    <tr>\n",
       "      <th>7</th>\n",
       "      <td>4.7</td>\n",
       "      <td>200000</td>\n",
       "    </tr>\n",
       "  </tbody>\n",
       "</table>\n",
       "</div>"
      ],
      "text/plain": [
       "   Rating  Sales per Year\n",
       "1     4.5          100000\n",
       "2     3.5           80000\n",
       "3     4.0          120000\n",
       "4     4.2           95000\n",
       "5     3.9           90000\n",
       "6     4.3          180000\n",
       "7     4.7          200000"
      ]
     },
     "execution_count": 64,
     "metadata": {},
     "output_type": "execute_result"
    }
   ],
   "source": [
    "# query DataFrame by Tag\n",
    "\n",
    "df2[[\"Rating\",\"Sales per Year\"]] # print Rating and Sales per Year columns\n",
    "# query collumns"
   ]
  },
  {
   "cell_type": "code",
   "execution_count": 65,
   "id": "50a08793",
   "metadata": {},
   "outputs": [
    {
     "data": {
      "text/html": [
       "<div>\n",
       "<style scoped>\n",
       "    .dataframe tbody tr th:only-of-type {\n",
       "        vertical-align: middle;\n",
       "    }\n",
       "\n",
       "    .dataframe tbody tr th {\n",
       "        vertical-align: top;\n",
       "    }\n",
       "\n",
       "    .dataframe thead th {\n",
       "        text-align: right;\n",
       "    }\n",
       "</style>\n",
       "<table border=\"1\" class=\"dataframe\">\n",
       "  <thead>\n",
       "    <tr style=\"text-align: right;\">\n",
       "      <th></th>\n",
       "      <th>Restaurants</th>\n",
       "      <th>Rating</th>\n",
       "      <th>Sales per Year</th>\n",
       "      <th>Location</th>\n",
       "      <th>Open</th>\n",
       "    </tr>\n",
       "  </thead>\n",
       "  <tbody>\n",
       "    <tr>\n",
       "      <th>2</th>\n",
       "      <td>Domino's</td>\n",
       "      <td>3.5</td>\n",
       "      <td>80000</td>\n",
       "      <td>Adajan</td>\n",
       "      <td>False</td>\n",
       "    </tr>\n",
       "    <tr>\n",
       "      <th>3</th>\n",
       "      <td>KFC</td>\n",
       "      <td>4.0</td>\n",
       "      <td>120000</td>\n",
       "      <td>Vesu</td>\n",
       "      <td>True</td>\n",
       "    </tr>\n",
       "  </tbody>\n",
       "</table>\n",
       "</div>"
      ],
      "text/plain": [
       "  Restaurants  Rating  Sales per Year Location   Open\n",
       "2    Domino's     3.5           80000   Adajan  False\n",
       "3         KFC     4.0          120000     Vesu   True"
      ]
     },
     "execution_count": 65,
     "metadata": {},
     "output_type": "execute_result"
    }
   ],
   "source": [
    "df2.iloc[1:3] # query rows\n",
    "# it's like slicing of DataFrame"
   ]
  },
  {
   "cell_type": "code",
   "execution_count": 66,
   "id": "f2ee47c7",
   "metadata": {},
   "outputs": [
    {
     "data": {
      "text/html": [
       "<div>\n",
       "<style scoped>\n",
       "    .dataframe tbody tr th:only-of-type {\n",
       "        vertical-align: middle;\n",
       "    }\n",
       "\n",
       "    .dataframe tbody tr th {\n",
       "        vertical-align: top;\n",
       "    }\n",
       "\n",
       "    .dataframe thead th {\n",
       "        text-align: right;\n",
       "    }\n",
       "</style>\n",
       "<table border=\"1\" class=\"dataframe\">\n",
       "  <thead>\n",
       "    <tr style=\"text-align: right;\">\n",
       "      <th></th>\n",
       "      <th>Restaurants</th>\n",
       "      <th>Rating</th>\n",
       "      <th>Sales per Year</th>\n",
       "      <th>Location</th>\n",
       "      <th>Open</th>\n",
       "    </tr>\n",
       "  </thead>\n",
       "  <tbody>\n",
       "    <tr>\n",
       "      <th>1</th>\n",
       "      <td>Pizza Hut</td>\n",
       "      <td>4.5</td>\n",
       "      <td>100000</td>\n",
       "      <td>Pal</td>\n",
       "      <td>True</td>\n",
       "    </tr>\n",
       "    <tr>\n",
       "      <th>2</th>\n",
       "      <td>Domino's</td>\n",
       "      <td>3.5</td>\n",
       "      <td>80000</td>\n",
       "      <td>Adajan</td>\n",
       "      <td>False</td>\n",
       "    </tr>\n",
       "    <tr>\n",
       "      <th>3</th>\n",
       "      <td>KFC</td>\n",
       "      <td>4.0</td>\n",
       "      <td>120000</td>\n",
       "      <td>Vesu</td>\n",
       "      <td>True</td>\n",
       "    </tr>\n",
       "    <tr>\n",
       "      <th>4</th>\n",
       "      <td>Burger King</td>\n",
       "      <td>4.2</td>\n",
       "      <td>95000</td>\n",
       "      <td>Ugat</td>\n",
       "      <td>True</td>\n",
       "    </tr>\n",
       "    <tr>\n",
       "      <th>5</th>\n",
       "      <td>Lapino's</td>\n",
       "      <td>3.9</td>\n",
       "      <td>90000</td>\n",
       "      <td>Bhesan</td>\n",
       "      <td>False</td>\n",
       "    </tr>\n",
       "    <tr>\n",
       "      <th>6</th>\n",
       "      <td>McDonlads</td>\n",
       "      <td>4.3</td>\n",
       "      <td>180000</td>\n",
       "      <td>Begampura</td>\n",
       "      <td>True</td>\n",
       "    </tr>\n",
       "    <tr>\n",
       "      <th>7</th>\n",
       "      <td>Star Bucks</td>\n",
       "      <td>4.7</td>\n",
       "      <td>200000</td>\n",
       "      <td>Katargam</td>\n",
       "      <td>False</td>\n",
       "    </tr>\n",
       "  </tbody>\n",
       "</table>\n",
       "</div>"
      ],
      "text/plain": [
       "   Restaurants  Rating  Sales per Year   Location   Open\n",
       "1    Pizza Hut     4.5          100000        Pal   True\n",
       "2     Domino's     3.5           80000     Adajan  False\n",
       "3          KFC     4.0          120000       Vesu   True\n",
       "4  Burger King     4.2           95000       Ugat   True\n",
       "5     Lapino's     3.9           90000     Bhesan  False\n",
       "6    McDonlads     4.3          180000  Begampura   True\n",
       "7   Star Bucks     4.7          200000   Katargam  False"
      ]
     },
     "execution_count": 66,
     "metadata": {},
     "output_type": "execute_result"
    }
   ],
   "source": [
    "# Copy DataFrame\n",
    "\n",
    "df3 = df2.copy() # df3 is copy of df2\n",
    "df3"
   ]
  },
  {
   "cell_type": "code",
   "execution_count": 67,
   "id": "5396e502",
   "metadata": {},
   "outputs": [
    {
     "data": {
      "text/html": [
       "<div>\n",
       "<style scoped>\n",
       "    .dataframe tbody tr th:only-of-type {\n",
       "        vertical-align: middle;\n",
       "    }\n",
       "\n",
       "    .dataframe tbody tr th {\n",
       "        vertical-align: top;\n",
       "    }\n",
       "\n",
       "    .dataframe thead th {\n",
       "        text-align: right;\n",
       "    }\n",
       "</style>\n",
       "<table border=\"1\" class=\"dataframe\">\n",
       "  <thead>\n",
       "    <tr style=\"text-align: right;\">\n",
       "      <th></th>\n",
       "      <th>Restaurants</th>\n",
       "      <th>Rating</th>\n",
       "      <th>Sales per Year</th>\n",
       "      <th>Location</th>\n",
       "      <th>Open</th>\n",
       "    </tr>\n",
       "  </thead>\n",
       "  <tbody>\n",
       "    <tr>\n",
       "      <th>1</th>\n",
       "      <td>Pizza Hut</td>\n",
       "      <td>4.5</td>\n",
       "      <td>100000.0</td>\n",
       "      <td>Pal</td>\n",
       "      <td>True</td>\n",
       "    </tr>\n",
       "    <tr>\n",
       "      <th>2</th>\n",
       "      <td>Domino's</td>\n",
       "      <td>3.5</td>\n",
       "      <td>80000.0</td>\n",
       "      <td>Adajan</td>\n",
       "      <td>False</td>\n",
       "    </tr>\n",
       "    <tr>\n",
       "      <th>3</th>\n",
       "      <td>KFC</td>\n",
       "      <td>4.0</td>\n",
       "      <td>120000.0</td>\n",
       "      <td>Vesu</td>\n",
       "      <td>True</td>\n",
       "    </tr>\n",
       "    <tr>\n",
       "      <th>4</th>\n",
       "      <td>Burger King</td>\n",
       "      <td>4.2</td>\n",
       "      <td>95000.0</td>\n",
       "      <td>Ugat</td>\n",
       "      <td>True</td>\n",
       "    </tr>\n",
       "    <tr>\n",
       "      <th>5</th>\n",
       "      <td>Lapino's</td>\n",
       "      <td>3.9</td>\n",
       "      <td>90000.0</td>\n",
       "      <td>Bhesan</td>\n",
       "      <td>False</td>\n",
       "    </tr>\n",
       "    <tr>\n",
       "      <th>6</th>\n",
       "      <td>McDonlads</td>\n",
       "      <td>4.3</td>\n",
       "      <td>180000.0</td>\n",
       "      <td>Begampura</td>\n",
       "      <td>True</td>\n",
       "    </tr>\n",
       "    <tr>\n",
       "      <th>7</th>\n",
       "      <td>Star Bucks</td>\n",
       "      <td>4.7</td>\n",
       "      <td>200000.0</td>\n",
       "      <td>Katargam</td>\n",
       "      <td>False</td>\n",
       "    </tr>\n",
       "    <tr>\n",
       "      <th>8</th>\n",
       "      <td>Saffron</td>\n",
       "      <td>4.2</td>\n",
       "      <td>NaN</td>\n",
       "      <td>Bhatar</td>\n",
       "      <td>True</td>\n",
       "    </tr>\n",
       "  </tbody>\n",
       "</table>\n",
       "</div>"
      ],
      "text/plain": [
       "   Restaurants  Rating  Sales per Year   Location   Open\n",
       "1    Pizza Hut     4.5        100000.0        Pal   True\n",
       "2     Domino's     3.5         80000.0     Adajan  False\n",
       "3          KFC     4.0        120000.0       Vesu   True\n",
       "4  Burger King     4.2         95000.0       Ugat   True\n",
       "5     Lapino's     3.9         90000.0     Bhesan  False\n",
       "6    McDonlads     4.3        180000.0  Begampura   True\n",
       "7   Star Bucks     4.7        200000.0   Katargam  False\n",
       "8      Saffron     4.2             NaN     Bhatar   True"
      ]
     },
     "execution_count": 67,
     "metadata": {},
     "output_type": "execute_result"
    }
   ],
   "source": [
    "# Add new row to DataFrame\n",
    "\n",
    "# df3.loc[\"index\",\"collumn name\"] = \"value\"\n",
    "df3.loc[\"8\",\"Restaurants\"] = \"Saffron\"\n",
    "df3.loc[\"8\",\"Rating\"] = 4.2\n",
    "df3.loc[\"8\",\"Location\"] = \"Bhatar\"\n",
    "df3.loc[\"8\",\"Open\"] = True\n",
    "df3"
   ]
  },
  {
   "cell_type": "code",
   "execution_count": 68,
   "id": "59ffeb77",
   "metadata": {},
   "outputs": [
    {
     "data": {
      "text/html": [
       "<div>\n",
       "<style scoped>\n",
       "    .dataframe tbody tr th:only-of-type {\n",
       "        vertical-align: middle;\n",
       "    }\n",
       "\n",
       "    .dataframe tbody tr th {\n",
       "        vertical-align: top;\n",
       "    }\n",
       "\n",
       "    .dataframe thead th {\n",
       "        text-align: right;\n",
       "    }\n",
       "</style>\n",
       "<table border=\"1\" class=\"dataframe\">\n",
       "  <thead>\n",
       "    <tr style=\"text-align: right;\">\n",
       "      <th></th>\n",
       "      <th>Restaurants</th>\n",
       "      <th>Rating</th>\n",
       "      <th>Sales per Year</th>\n",
       "      <th>Location</th>\n",
       "      <th>Open</th>\n",
       "    </tr>\n",
       "  </thead>\n",
       "  <tbody>\n",
       "    <tr>\n",
       "      <th>1</th>\n",
       "      <td>False</td>\n",
       "      <td>False</td>\n",
       "      <td>False</td>\n",
       "      <td>False</td>\n",
       "      <td>False</td>\n",
       "    </tr>\n",
       "    <tr>\n",
       "      <th>2</th>\n",
       "      <td>False</td>\n",
       "      <td>False</td>\n",
       "      <td>False</td>\n",
       "      <td>False</td>\n",
       "      <td>False</td>\n",
       "    </tr>\n",
       "    <tr>\n",
       "      <th>3</th>\n",
       "      <td>False</td>\n",
       "      <td>False</td>\n",
       "      <td>False</td>\n",
       "      <td>False</td>\n",
       "      <td>False</td>\n",
       "    </tr>\n",
       "    <tr>\n",
       "      <th>4</th>\n",
       "      <td>False</td>\n",
       "      <td>False</td>\n",
       "      <td>False</td>\n",
       "      <td>False</td>\n",
       "      <td>False</td>\n",
       "    </tr>\n",
       "    <tr>\n",
       "      <th>5</th>\n",
       "      <td>False</td>\n",
       "      <td>False</td>\n",
       "      <td>False</td>\n",
       "      <td>False</td>\n",
       "      <td>False</td>\n",
       "    </tr>\n",
       "    <tr>\n",
       "      <th>6</th>\n",
       "      <td>False</td>\n",
       "      <td>False</td>\n",
       "      <td>False</td>\n",
       "      <td>False</td>\n",
       "      <td>False</td>\n",
       "    </tr>\n",
       "    <tr>\n",
       "      <th>7</th>\n",
       "      <td>False</td>\n",
       "      <td>False</td>\n",
       "      <td>False</td>\n",
       "      <td>False</td>\n",
       "      <td>False</td>\n",
       "    </tr>\n",
       "    <tr>\n",
       "      <th>8</th>\n",
       "      <td>False</td>\n",
       "      <td>False</td>\n",
       "      <td>True</td>\n",
       "      <td>False</td>\n",
       "      <td>False</td>\n",
       "    </tr>\n",
       "  </tbody>\n",
       "</table>\n",
       "</div>"
      ],
      "text/plain": [
       "   Restaurants  Rating  Sales per Year  Location   Open\n",
       "1        False   False           False     False  False\n",
       "2        False   False           False     False  False\n",
       "3        False   False           False     False  False\n",
       "4        False   False           False     False  False\n",
       "5        False   False           False     False  False\n",
       "6        False   False           False     False  False\n",
       "7        False   False           False     False  False\n",
       "8        False   False            True     False  False"
      ]
     },
     "execution_count": 68,
     "metadata": {},
     "output_type": "execute_result"
    }
   ],
   "source": [
    "df3.isnull() # check for null values in df3\n",
    "# if there are no value then print True else False"
   ]
  },
  {
   "cell_type": "code",
   "execution_count": 69,
   "id": "ea73a4cd",
   "metadata": {},
   "outputs": [
    {
     "name": "stdout",
     "output_type": "stream",
     "text": [
      "Rating                 4.162500\n",
      "Sales per Year    123571.428571\n",
      "dtype: float64\n",
      "\n",
      "\n",
      "Sum of Sales per Year : 865000.0\n"
     ]
    }
   ],
   "source": [
    "c = df3.mean(numeric_only=True)\n",
    "print(c)\n",
    "\n",
    "print(\"\\n\")\n",
    " \n",
    "d = df3[\"Sales per Year\"].sum() # sum of Sales per Year\n",
    "print(\"Sum of Sales per Year :\", d)"
   ]
  },
  {
   "cell_type": "code",
   "execution_count": 70,
   "id": "e61dfd02",
   "metadata": {},
   "outputs": [
    {
     "name": "stdout",
     "output_type": "stream",
     "text": [
      "0       a\n",
      "1     bat\n",
      "2     cat\n",
      "3     dog\n",
      "4      af\n",
      "5    food\n",
      "6       g\n",
      "dtype: object \n",
      "\n",
      "0       A\n",
      "1     BAT\n",
      "2     CAT\n",
      "3     DOG\n",
      "4      AF\n",
      "5    FOOD\n",
      "6       G\n",
      "dtype: object \n",
      "\n",
      "0       A\n",
      "1     Bat\n",
      "2     Cat\n",
      "3     Dog\n",
      "4      Af\n",
      "5    Food\n",
      "6       G\n",
      "dtype: object\n"
     ]
    }
   ],
   "source": [
    "string = pd.Series([\"A\",\"Bat\",\"Cat\",\"DOG\",\"AF\",\"Food\",\"G\"])\n",
    "print(string.str.lower(),\"\\n\") \n",
    "print(string.str.upper(),\"\\n\")\n",
    "print(string.str.title()) "
   ]
  },
  {
   "cell_type": "markdown",
   "id": "e3a0db49",
   "metadata": {},
   "source": [
    "### Operation for Data Frame missing values : "
   ]
  },
  {
   "cell_type": "code",
   "execution_count": 71,
   "id": "d7e1b00c",
   "metadata": {},
   "outputs": [
    {
     "name": "stderr",
     "output_type": "stream",
     "text": [
      "/tmp/ipykernel_10793/145722489.py:2: FutureWarning: Downcasting object dtype arrays on .fillna, .ffill, .bfill is deprecated and will change in a future version. Call result.infer_objects(copy=False) instead. To opt-in to the future behavior, set `pd.set_option('future.no_silent_downcasting', True)`\n",
      "  df4.fillna(99000)\n"
     ]
    },
    {
     "data": {
      "text/html": [
       "<div>\n",
       "<style scoped>\n",
       "    .dataframe tbody tr th:only-of-type {\n",
       "        vertical-align: middle;\n",
       "    }\n",
       "\n",
       "    .dataframe tbody tr th {\n",
       "        vertical-align: top;\n",
       "    }\n",
       "\n",
       "    .dataframe thead th {\n",
       "        text-align: right;\n",
       "    }\n",
       "</style>\n",
       "<table border=\"1\" class=\"dataframe\">\n",
       "  <thead>\n",
       "    <tr style=\"text-align: right;\">\n",
       "      <th></th>\n",
       "      <th>Restaurants</th>\n",
       "      <th>Rating</th>\n",
       "      <th>Sales per Year</th>\n",
       "      <th>Location</th>\n",
       "      <th>Open</th>\n",
       "    </tr>\n",
       "  </thead>\n",
       "  <tbody>\n",
       "    <tr>\n",
       "      <th>1</th>\n",
       "      <td>Pizza Hut</td>\n",
       "      <td>4.5</td>\n",
       "      <td>100000.0</td>\n",
       "      <td>Pal</td>\n",
       "      <td>True</td>\n",
       "    </tr>\n",
       "    <tr>\n",
       "      <th>2</th>\n",
       "      <td>Domino's</td>\n",
       "      <td>3.5</td>\n",
       "      <td>80000.0</td>\n",
       "      <td>Adajan</td>\n",
       "      <td>False</td>\n",
       "    </tr>\n",
       "    <tr>\n",
       "      <th>3</th>\n",
       "      <td>KFC</td>\n",
       "      <td>4.0</td>\n",
       "      <td>120000.0</td>\n",
       "      <td>Vesu</td>\n",
       "      <td>True</td>\n",
       "    </tr>\n",
       "    <tr>\n",
       "      <th>4</th>\n",
       "      <td>Burger King</td>\n",
       "      <td>4.2</td>\n",
       "      <td>95000.0</td>\n",
       "      <td>Ugat</td>\n",
       "      <td>True</td>\n",
       "    </tr>\n",
       "    <tr>\n",
       "      <th>5</th>\n",
       "      <td>Lapino's</td>\n",
       "      <td>3.9</td>\n",
       "      <td>90000.0</td>\n",
       "      <td>Bhesan</td>\n",
       "      <td>False</td>\n",
       "    </tr>\n",
       "    <tr>\n",
       "      <th>6</th>\n",
       "      <td>McDonlads</td>\n",
       "      <td>4.3</td>\n",
       "      <td>180000.0</td>\n",
       "      <td>Begampura</td>\n",
       "      <td>True</td>\n",
       "    </tr>\n",
       "    <tr>\n",
       "      <th>7</th>\n",
       "      <td>Star Bucks</td>\n",
       "      <td>4.7</td>\n",
       "      <td>200000.0</td>\n",
       "      <td>Katargam</td>\n",
       "      <td>False</td>\n",
       "    </tr>\n",
       "    <tr>\n",
       "      <th>8</th>\n",
       "      <td>Saffron</td>\n",
       "      <td>4.2</td>\n",
       "      <td>99000.0</td>\n",
       "      <td>Bhatar</td>\n",
       "      <td>True</td>\n",
       "    </tr>\n",
       "  </tbody>\n",
       "</table>\n",
       "</div>"
      ],
      "text/plain": [
       "   Restaurants  Rating  Sales per Year   Location   Open\n",
       "1    Pizza Hut     4.5        100000.0        Pal   True\n",
       "2     Domino's     3.5         80000.0     Adajan  False\n",
       "3          KFC     4.0        120000.0       Vesu   True\n",
       "4  Burger King     4.2         95000.0       Ugat   True\n",
       "5     Lapino's     3.9         90000.0     Bhesan  False\n",
       "6    McDonlads     4.3        180000.0  Begampura   True\n",
       "7   Star Bucks     4.7        200000.0   Katargam  False\n",
       "8      Saffron     4.2         99000.0     Bhatar   True"
      ]
     },
     "execution_count": 71,
     "metadata": {},
     "output_type": "execute_result"
    }
   ],
   "source": [
    "df4 = df3.copy()\n",
    "df4.fillna(99000)"
   ]
  },
  {
   "cell_type": "code",
   "execution_count": 72,
   "id": "a61152c7",
   "metadata": {},
   "outputs": [
    {
     "data": {
      "text/html": [
       "<div>\n",
       "<style scoped>\n",
       "    .dataframe tbody tr th:only-of-type {\n",
       "        vertical-align: middle;\n",
       "    }\n",
       "\n",
       "    .dataframe tbody tr th {\n",
       "        vertical-align: top;\n",
       "    }\n",
       "\n",
       "    .dataframe thead th {\n",
       "        text-align: right;\n",
       "    }\n",
       "</style>\n",
       "<table border=\"1\" class=\"dataframe\">\n",
       "  <thead>\n",
       "    <tr style=\"text-align: right;\">\n",
       "      <th></th>\n",
       "      <th>Restaurants</th>\n",
       "      <th>Rating</th>\n",
       "      <th>Sales per Year</th>\n",
       "      <th>Location</th>\n",
       "      <th>Open</th>\n",
       "    </tr>\n",
       "  </thead>\n",
       "  <tbody>\n",
       "    <tr>\n",
       "      <th>1</th>\n",
       "      <td>Pizza Hut</td>\n",
       "      <td>4.5</td>\n",
       "      <td>100000.0</td>\n",
       "      <td>Pal</td>\n",
       "      <td>True</td>\n",
       "    </tr>\n",
       "    <tr>\n",
       "      <th>2</th>\n",
       "      <td>Domino's</td>\n",
       "      <td>3.5</td>\n",
       "      <td>80000.0</td>\n",
       "      <td>Adajan</td>\n",
       "      <td>False</td>\n",
       "    </tr>\n",
       "    <tr>\n",
       "      <th>3</th>\n",
       "      <td>KFC</td>\n",
       "      <td>4.0</td>\n",
       "      <td>120000.0</td>\n",
       "      <td>Vesu</td>\n",
       "      <td>True</td>\n",
       "    </tr>\n",
       "    <tr>\n",
       "      <th>4</th>\n",
       "      <td>Burger King</td>\n",
       "      <td>4.2</td>\n",
       "      <td>95000.0</td>\n",
       "      <td>Ugat</td>\n",
       "      <td>True</td>\n",
       "    </tr>\n",
       "    <tr>\n",
       "      <th>5</th>\n",
       "      <td>Lapino's</td>\n",
       "      <td>3.9</td>\n",
       "      <td>90000.0</td>\n",
       "      <td>Bhesan</td>\n",
       "      <td>False</td>\n",
       "    </tr>\n",
       "    <tr>\n",
       "      <th>6</th>\n",
       "      <td>McDonlads</td>\n",
       "      <td>4.3</td>\n",
       "      <td>180000.0</td>\n",
       "      <td>Begampura</td>\n",
       "      <td>True</td>\n",
       "    </tr>\n",
       "    <tr>\n",
       "      <th>7</th>\n",
       "      <td>Star Bucks</td>\n",
       "      <td>4.7</td>\n",
       "      <td>200000.0</td>\n",
       "      <td>Katargam</td>\n",
       "      <td>False</td>\n",
       "    </tr>\n",
       "  </tbody>\n",
       "</table>\n",
       "</div>"
      ],
      "text/plain": [
       "   Restaurants  Rating  Sales per Year   Location   Open\n",
       "1    Pizza Hut     4.5        100000.0        Pal   True\n",
       "2     Domino's     3.5         80000.0     Adajan  False\n",
       "3          KFC     4.0        120000.0       Vesu   True\n",
       "4  Burger King     4.2         95000.0       Ugat   True\n",
       "5     Lapino's     3.9         90000.0     Bhesan  False\n",
       "6    McDonlads     4.3        180000.0  Begampura   True\n",
       "7   Star Bucks     4.7        200000.0   Katargam  False"
      ]
     },
     "execution_count": 72,
     "metadata": {},
     "output_type": "execute_result"
    }
   ],
   "source": [
    "df5 = df3.copy()\n",
    "df5.dropna(how = 'any') # it remove row when NaN value is present in any collumn"
   ]
  },
  {
   "cell_type": "markdown",
   "id": "1fa79ae6",
   "metadata": {},
   "source": [
    "### Open and Read Files :"
   ]
  },
  {
   "cell_type": "code",
   "execution_count": 73,
   "id": "9001f100",
   "metadata": {},
   "outputs": [
    {
     "data": {
      "text/html": [
       "<div>\n",
       "<style scoped>\n",
       "    .dataframe tbody tr th:only-of-type {\n",
       "        vertical-align: middle;\n",
       "    }\n",
       "\n",
       "    .dataframe tbody tr th {\n",
       "        vertical-align: top;\n",
       "    }\n",
       "\n",
       "    .dataframe thead th {\n",
       "        text-align: right;\n",
       "    }\n",
       "</style>\n",
       "<table border=\"1\" class=\"dataframe\">\n",
       "  <thead>\n",
       "    <tr style=\"text-align: right;\">\n",
       "      <th></th>\n",
       "      <th>Name</th>\n",
       "      <th>Age</th>\n",
       "      <th>City</th>\n",
       "    </tr>\n",
       "  </thead>\n",
       "  <tbody>\n",
       "    <tr>\n",
       "      <th>0</th>\n",
       "      <td>Yash</td>\n",
       "      <td>17</td>\n",
       "      <td>Surat</td>\n",
       "    </tr>\n",
       "    <tr>\n",
       "      <th>1</th>\n",
       "      <td>Meet</td>\n",
       "      <td>12</td>\n",
       "      <td>Navsari</td>\n",
       "    </tr>\n",
       "    <tr>\n",
       "      <th>2</th>\n",
       "      <td>Ayush</td>\n",
       "      <td>20</td>\n",
       "      <td>Ahmedabad</td>\n",
       "    </tr>\n",
       "    <tr>\n",
       "      <th>3</th>\n",
       "      <td>Rudra</td>\n",
       "      <td>16</td>\n",
       "      <td>Surat</td>\n",
       "    </tr>\n",
       "    <tr>\n",
       "      <th>4</th>\n",
       "      <td>Veer</td>\n",
       "      <td>21</td>\n",
       "      <td>Vadodara</td>\n",
       "    </tr>\n",
       "    <tr>\n",
       "      <th>5</th>\n",
       "      <td>Jay</td>\n",
       "      <td>11</td>\n",
       "      <td>Jamnagar</td>\n",
       "    </tr>\n",
       "    <tr>\n",
       "      <th>6</th>\n",
       "      <td>Vraj</td>\n",
       "      <td>18</td>\n",
       "      <td>Rajkot</td>\n",
       "    </tr>\n",
       "    <tr>\n",
       "      <th>7</th>\n",
       "      <td>Tathya</td>\n",
       "      <td>17</td>\n",
       "      <td>Mumbai</td>\n",
       "    </tr>\n",
       "    <tr>\n",
       "      <th>8</th>\n",
       "      <td>Saumya</td>\n",
       "      <td>18</td>\n",
       "      <td>Ahemdabad</td>\n",
       "    </tr>\n",
       "  </tbody>\n",
       "</table>\n",
       "</div>"
      ],
      "text/plain": [
       "     Name  Age       City\n",
       "0    Yash   17      Surat\n",
       "1    Meet   12    Navsari\n",
       "2   Ayush   20  Ahmedabad\n",
       "3   Rudra   16      Surat\n",
       "4    Veer   21   Vadodara\n",
       "5     Jay   11   Jamnagar\n",
       "6    Vraj   18     Rajkot\n",
       "7  Tathya   17     Mumbai\n",
       "8  Saumya   18  Ahemdabad"
      ]
     },
     "execution_count": 73,
     "metadata": {},
     "output_type": "execute_result"
    }
   ],
   "source": [
    "file1 = pd.read_csv(\"file.csv\") # read csv file\n",
    "file1"
   ]
  },
  {
   "cell_type": "code",
   "execution_count": 74,
   "id": "66e624c2",
   "metadata": {},
   "outputs": [
    {
     "data": {
      "text/html": [
       "<div>\n",
       "<style scoped>\n",
       "    .dataframe tbody tr th:only-of-type {\n",
       "        vertical-align: middle;\n",
       "    }\n",
       "\n",
       "    .dataframe tbody tr th {\n",
       "        vertical-align: top;\n",
       "    }\n",
       "\n",
       "    .dataframe thead th {\n",
       "        text-align: right;\n",
       "    }\n",
       "</style>\n",
       "<table border=\"1\" class=\"dataframe\">\n",
       "  <thead>\n",
       "    <tr style=\"text-align: right;\">\n",
       "      <th></th>\n",
       "      <th>Name</th>\n",
       "      <th>Age</th>\n",
       "      <th>City</th>\n",
       "    </tr>\n",
       "  </thead>\n",
       "  <tbody>\n",
       "    <tr>\n",
       "      <th>0</th>\n",
       "      <td>Yash</td>\n",
       "      <td>17</td>\n",
       "      <td>Surat</td>\n",
       "    </tr>\n",
       "    <tr>\n",
       "      <th>1</th>\n",
       "      <td>Meet</td>\n",
       "      <td>12</td>\n",
       "      <td>Navsari</td>\n",
       "    </tr>\n",
       "    <tr>\n",
       "      <th>2</th>\n",
       "      <td>Ayush</td>\n",
       "      <td>20</td>\n",
       "      <td>Ahmedabad</td>\n",
       "    </tr>\n",
       "  </tbody>\n",
       "</table>\n",
       "</div>"
      ],
      "text/plain": [
       "    Name  Age       City\n",
       "0   Yash   17      Surat\n",
       "1   Meet   12    Navsari\n",
       "2  Ayush   20  Ahmedabad"
      ]
     },
     "execution_count": 74,
     "metadata": {},
     "output_type": "execute_result"
    }
   ],
   "source": [
    "file1.head(3)"
   ]
  },
  {
   "cell_type": "code",
   "execution_count": 75,
   "id": "74764f1c",
   "metadata": {},
   "outputs": [
    {
     "data": {
      "text/html": [
       "<div>\n",
       "<style scoped>\n",
       "    .dataframe tbody tr th:only-of-type {\n",
       "        vertical-align: middle;\n",
       "    }\n",
       "\n",
       "    .dataframe tbody tr th {\n",
       "        vertical-align: top;\n",
       "    }\n",
       "\n",
       "    .dataframe thead th {\n",
       "        text-align: right;\n",
       "    }\n",
       "</style>\n",
       "<table border=\"1\" class=\"dataframe\">\n",
       "  <thead>\n",
       "    <tr style=\"text-align: right;\">\n",
       "      <th></th>\n",
       "      <th>Name</th>\n",
       "      <th>Age</th>\n",
       "      <th>City</th>\n",
       "    </tr>\n",
       "  </thead>\n",
       "  <tbody>\n",
       "    <tr>\n",
       "      <th>2</th>\n",
       "      <td>Ayush</td>\n",
       "      <td>20</td>\n",
       "      <td>Ahmedabad</td>\n",
       "    </tr>\n",
       "    <tr>\n",
       "      <th>3</th>\n",
       "      <td>Rudra</td>\n",
       "      <td>16</td>\n",
       "      <td>Surat</td>\n",
       "    </tr>\n",
       "    <tr>\n",
       "      <th>4</th>\n",
       "      <td>Veer</td>\n",
       "      <td>21</td>\n",
       "      <td>Vadodara</td>\n",
       "    </tr>\n",
       "    <tr>\n",
       "      <th>5</th>\n",
       "      <td>Jay</td>\n",
       "      <td>11</td>\n",
       "      <td>Jamnagar</td>\n",
       "    </tr>\n",
       "    <tr>\n",
       "      <th>6</th>\n",
       "      <td>Vraj</td>\n",
       "      <td>18</td>\n",
       "      <td>Rajkot</td>\n",
       "    </tr>\n",
       "    <tr>\n",
       "      <th>7</th>\n",
       "      <td>Tathya</td>\n",
       "      <td>17</td>\n",
       "      <td>Mumbai</td>\n",
       "    </tr>\n",
       "    <tr>\n",
       "      <th>8</th>\n",
       "      <td>Saumya</td>\n",
       "      <td>18</td>\n",
       "      <td>Ahemdabad</td>\n",
       "    </tr>\n",
       "  </tbody>\n",
       "</table>\n",
       "</div>"
      ],
      "text/plain": [
       "     Name  Age       City\n",
       "2   Ayush   20  Ahmedabad\n",
       "3   Rudra   16      Surat\n",
       "4    Veer   21   Vadodara\n",
       "5     Jay   11   Jamnagar\n",
       "6    Vraj   18     Rajkot\n",
       "7  Tathya   17     Mumbai\n",
       "8  Saumya   18  Ahemdabad"
      ]
     },
     "execution_count": 75,
     "metadata": {},
     "output_type": "execute_result"
    }
   ],
   "source": [
    "file2 = pd.read_excel(\"file.xlsx\") # read excel file\n",
    "file2.tail(7)"
   ]
  },
  {
   "cell_type": "markdown",
   "id": "2fe6d20a",
   "metadata": {},
   "source": [
    " ### Info of DataFrame :"
   ]
  },
  {
   "cell_type": "code",
   "execution_count": 76,
   "id": "b9c5edda",
   "metadata": {},
   "outputs": [
    {
     "name": "stdout",
     "output_type": "stream",
     "text": [
      "<class 'pandas.core.frame.DataFrame'>\n",
      "Index: 8 entries, 1 to 8\n",
      "Data columns (total 5 columns):\n",
      " #   Column          Non-Null Count  Dtype  \n",
      "---  ------          --------------  -----  \n",
      " 0   Restaurants     8 non-null      object \n",
      " 1   Rating          8 non-null      float64\n",
      " 2   Sales per Year  7 non-null      float64\n",
      " 3   Location        8 non-null      object \n",
      " 4   Open            8 non-null      object \n",
      "dtypes: float64(2), object(3)\n",
      "memory usage: 684.0+ bytes\n"
     ]
    }
   ],
   "source": [
    "pd.DataFrame.info(df3)\n",
    "# RangeIndex = number of rows\n",
    "# Data column = number of columns"
   ]
  },
  {
   "cell_type": "markdown",
   "id": "379c2c67",
   "metadata": {},
   "source": [
    "### Sava a DataFrame in file : "
   ]
  },
  {
   "cell_type": "code",
   "execution_count": 78,
   "id": "41e16d35",
   "metadata": {},
   "outputs": [],
   "source": [
    "df3.to_csv(\"OutputWithIndex.csv\",index = True)\n",
    "df3.to_excel(\"OutputWithOutIndex.xlsx\",index = False) "
   ]
  }
 ],
 "metadata": {
  "kernelspec": {
   "display_name": "base",
   "language": "python",
   "name": "python3"
  },
  "language_info": {
   "codemirror_mode": {
    "name": "ipython",
    "version": 3
   },
   "file_extension": ".py",
   "mimetype": "text/x-python",
   "name": "python",
   "nbconvert_exporter": "python",
   "pygments_lexer": "ipython3",
   "version": "3.13.5"
  }
 },
 "nbformat": 4,
 "nbformat_minor": 5
}
